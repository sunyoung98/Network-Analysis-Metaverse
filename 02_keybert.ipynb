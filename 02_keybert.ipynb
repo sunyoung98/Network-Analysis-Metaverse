{
 "cells": [
  {
   "cell_type": "code",
   "execution_count": 1,
   "metadata": {},
   "outputs": [
    {
     "name": "stderr",
     "output_type": "stream",
     "text": [
      "2023-09-05 04:24:48.917394: I tensorflow/core/util/port.cc:110] oneDNN custom operations are on. You may see slightly different numerical results due to floating-point round-off errors from different computation orders. To turn them off, set the environment variable `TF_ENABLE_ONEDNN_OPTS=0`.\n",
      "2023-09-05 04:24:48.970257: I tensorflow/core/platform/cpu_feature_guard.cc:182] This TensorFlow binary is optimized to use available CPU instructions in performance-critical operations.\n",
      "To enable the following instructions: AVX2 AVX512F AVX512_VNNI FMA, in other operations, rebuild TensorFlow with the appropriate compiler flags.\n"
     ]
    }
   ],
   "source": [
    "from keybert import KeyBERT\n",
    "from nltk.tag import pos_tag\n",
    "from nltk.tokenize import word_tokenize\n",
    "import pandas as pd\n",
    "import torch\n",
    "import os\n",
    "from tqdm import tqdm, trange\n",
    "from random import randint\n",
    "from sklearn.feature_extraction.text import CountVectorizer, TfidfVectorizer"
   ]
  },
  {
   "cell_type": "code",
   "execution_count": 2,
   "metadata": {},
   "outputs": [],
   "source": [
    "tqdm.pandas()"
   ]
  },
  {
   "cell_type": "code",
   "execution_count": 3,
   "metadata": {},
   "outputs": [],
   "source": [
    "def morphs(text, noun = True, verb = False, adjective = False, adverb = False):\n",
    "    tokens = word_tokenize(text)\n",
    "    poses = pos_tag(tokens, tagset = 'universal')\n",
    "    filters = []\n",
    "\n",
    "    if noun:\n",
    "        filters.append('NOUN')\n",
    "    if verb:\n",
    "        filters.append('VERB')\n",
    "    if adjective:\n",
    "        filters.append('ADJ')\n",
    "    if adverb:\n",
    "        filters.append('ADV')\n",
    "\n",
    "    return [pos[0] for pos in poses if pos[1] in filters]"
   ]
  },
  {
   "cell_type": "code",
   "execution_count": 4,
   "metadata": {},
   "outputs": [],
   "source": [
    "models = [\n",
    "    'all-mpnet-base-v2',\n",
    "    'multi-qa-mpnet-base-dot-v1',\n",
    "    'all-distilroberta-v1',\n",
    "    'all-MiniLM-L12-v2',\n",
    "    'multi-qa-distilbert-cos-v1'\n",
    "]"
   ]
  },
  {
   "cell_type": "code",
   "execution_count": null,
   "metadata": {},
   "outputs": [],
   "source": [
    "for model_name in models:\n",
    "    # BASIC OPTION\n",
    "    print(f'TRAINING ON {model_name}')\n",
    "\n",
    "    model = KeyBERT(model_name)\n",
    "    \n",
    "    df1 = pd.read_csv('./datasets/original/roblox1.csv', index_col = 0, low_memory = False)\n",
    "    df2 = pd.read_csv('./datasets/original/roblox2.csv', index_col = 0, low_memory = False)\n",
    "    df3 = pd.read_csv('./datasets/original/roblox3.csv', index_col = 0, low_memory = False)\n",
    "    df4 = pd.read_csv('./datasets/original/roblox4.csv', index_col = 0, low_memory = False)\n",
    "    df5 = pd.read_csv('./datasets/original/roblox5.csv', index_col = 0, low_memory = False)\n",
    "    df6 = pd.read_csv('./datasets/original/zepeto.csv', index_col = 0, low_memory = False)\n",
    "\n",
    "    df1['keybert_keywords'] = df1['content'].progress_apply(lambda x : model.extract_keywords(x, top_n = 10))\n",
    "    df2['keybert_keywords'] = df2['content'].progress_apply(lambda x : model.extract_keywords(x, top_n = 10))\n",
    "    df3['keybert_keywords'] = df3['content'].progress_apply(lambda x : model.extract_keywords(x, top_n = 10))\n",
    "    df4['keybert_keywords'] = df4['content'].progress_apply(lambda x : model.extract_keywords(x, top_n = 10))\n",
    "    df5['keybert_keywords'] = df5['content'].progress_apply(lambda x : model.extract_keywords(x, top_n = 10))\n",
    "    df6['keybert_keywords'] = df6['content'].progress_apply(lambda x : model.extract_keywords(x, top_n = 10))\n",
    "\n",
    "    os.makedirs(f'./datasets/keybert-{model_name}/original')\n",
    "    os.makedirs(f'./datasets/keybert-{model_name}/')\n",
    "\n",
    "    df1.reset_index(drop = True).to_csv(f'./datasets/keybert-{model_name}/roblox1.csv')\n",
    "    df2.reset_index(drop = True).to_csv(f'./datasets/keybert-{model_name}/roblox2.csv')\n",
    "    df3.reset_index(drop = True).to_csv(f'./datasets/keybert-{model_name}/roblox3.csv')\n",
    "    df4.reset_index(drop = True).to_csv(f'./datasets/keybert-{model_name}/roblox4.csv')\n",
    "    df5.reset_index(drop = True).to_csv(f'./datasets/keybert-{model_name}/roblox5.csv')\n",
    "    df6.reset_index(drop = True).to_csv(f'./datasets/keybert-{model_name}/zepeto.csv')"
   ]
  },
  {
   "cell_type": "code",
   "execution_count": null,
   "metadata": {},
   "outputs": [],
   "source": [
    "import pandas as pd"
   ]
  },
  {
   "cell_type": "code",
   "execution_count": null,
   "metadata": {},
   "outputs": [],
   "source": [
    "df = pd.read_csv('./datasets/keybert-distilbert-base-nli-mean-tokens/roblox1.csv', index_col = 0)"
   ]
  },
  {
   "cell_type": "code",
   "execution_count": null,
   "metadata": {},
   "outputs": [],
   "source": [
    "for i in range(5):\n",
    "    print(df.loc[i].content)\n",
    "    print(df.loc[i].keybert_keywords)\n",
    "    print()"
   ]
  },
  {
   "cell_type": "code",
   "execution_count": null,
   "metadata": {},
   "outputs": [],
   "source": [
    "df = pd.read_csv('./datasets/keybert-all-mpnet-base-v2/roblox1.csv', index_col = 0)"
   ]
  },
  {
   "cell_type": "code",
   "execution_count": null,
   "metadata": {},
   "outputs": [],
   "source": [
    "for i in range(5):\n",
    "    print(df.loc[i].content)\n",
    "    print(df.loc[i].keybert_keywords)\n",
    "    print()"
   ]
  },
  {
   "cell_type": "code",
   "execution_count": null,
   "metadata": {},
   "outputs": [],
   "source": []
  }
 ],
 "metadata": {
  "kernelspec": {
   "display_name": "Python 3",
   "language": "python",
   "name": "python3"
  },
  "language_info": {
   "codemirror_mode": {
    "name": "ipython",
    "version": 3
   },
   "file_extension": ".py",
   "mimetype": "text/x-python",
   "name": "python",
   "nbconvert_exporter": "python",
   "pygments_lexer": "ipython3",
   "version": "3.8.10 (default, Nov 14 2022, 12:59:47) \n[GCC 9.4.0]"
  },
  "orig_nbformat": 4,
  "vscode": {
   "interpreter": {
    "hash": "767d51c1340bd893661ea55ea3124f6de3c7a262a8b4abca0554b478b1e2ff90"
   }
  }
 },
 "nbformat": 4,
 "nbformat_minor": 2
}
