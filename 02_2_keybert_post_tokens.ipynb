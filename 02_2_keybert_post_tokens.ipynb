{
 "cells": [
  {
   "cell_type": "code",
   "execution_count": 1,
   "metadata": {},
   "outputs": [],
   "source": [
    "import pandas as pd\n",
    "import os\n",
    "from tqdm import tqdm\n",
    "from nltk.stem import WordNetLemmatizer\n",
    "from nltk.tag import pos_tag"
   ]
  },
  {
   "cell_type": "code",
   "execution_count": 2,
   "metadata": {},
   "outputs": [],
   "source": [
    "tqdm.pandas()\n",
    "lemmatizer = WordNetLemmatizer()"
   ]
  },
  {
   "cell_type": "code",
   "execution_count": 3,
   "metadata": {},
   "outputs": [],
   "source": [
    "def tag2sym(tag):\n",
    "    if tag == 'NOUN':\n",
    "        return 'n'\n",
    "    elif tag == 'VERB':\n",
    "        return 'v'\n",
    "    elif tag == 'ADJ':\n",
    "        return 'a'\n",
    "    elif tag == 'ADV':\n",
    "        return 'r'\n",
    "    else:\n",
    "        return 'n'"
   ]
  },
  {
   "cell_type": "code",
   "execution_count": 4,
   "metadata": {},
   "outputs": [
    {
     "name": "stdout",
     "output_type": "stream",
     "text": [
      "PROCESSING keybert-all-mpnet-base-v2\n"
     ]
    },
    {
     "name": "stderr",
     "output_type": "stream",
     "text": [
      "100%|██████████| 100000/100000 [05:39<00:00, 294.70it/s]\n",
      "100%|██████████| 100000/100000 [05:31<00:00, 301.72it/s]\n",
      "100%|██████████| 100000/100000 [05:07<00:00, 325.35it/s]\n",
      "100%|██████████| 100000/100000 [04:24<00:00, 377.60it/s]\n",
      " 88%|████████▊ | 41204/46700 [01:40<00:13, 411.62it/s] \n"
     ]
    },
    {
     "ename": "KeyboardInterrupt",
     "evalue": "",
     "output_type": "error",
     "traceback": [
      "\u001b[0;31m---------------------------------------------------------------------------\u001b[0m",
      "\u001b[0;31mKeyboardInterrupt\u001b[0m                         Traceback (most recent call last)",
      "Cell \u001b[0;32mIn[4], line 15\u001b[0m\n\u001b[1;32m     13\u001b[0m df3[\u001b[39m'\u001b[39m\u001b[39mkeybert_keywords_lemmatized\u001b[39m\u001b[39m'\u001b[39m] \u001b[39m=\u001b[39m df3[\u001b[39m'\u001b[39m\u001b[39mkeybert_keywords\u001b[39m\u001b[39m'\u001b[39m]\u001b[39m.\u001b[39mprogress_apply(\u001b[39mlambda\u001b[39;00m array : [(lemmatizer\u001b[39m.\u001b[39mlemmatize(word, tag2sym(pos_tag([word]))), score) \u001b[39mfor\u001b[39;00m word, score \u001b[39min\u001b[39;00m \u001b[39meval\u001b[39m(array)])\n\u001b[1;32m     14\u001b[0m df4[\u001b[39m'\u001b[39m\u001b[39mkeybert_keywords_lemmatized\u001b[39m\u001b[39m'\u001b[39m] \u001b[39m=\u001b[39m df4[\u001b[39m'\u001b[39m\u001b[39mkeybert_keywords\u001b[39m\u001b[39m'\u001b[39m]\u001b[39m.\u001b[39mprogress_apply(\u001b[39mlambda\u001b[39;00m array : [(lemmatizer\u001b[39m.\u001b[39mlemmatize(word, tag2sym(pos_tag([word]))), score) \u001b[39mfor\u001b[39;00m word, score \u001b[39min\u001b[39;00m \u001b[39meval\u001b[39m(array)])\n\u001b[0;32m---> 15\u001b[0m df5[\u001b[39m'\u001b[39m\u001b[39mkeybert_keywords_lemmatized\u001b[39m\u001b[39m'\u001b[39m] \u001b[39m=\u001b[39m df5[\u001b[39m'\u001b[39;49m\u001b[39mkeybert_keywords\u001b[39;49m\u001b[39m'\u001b[39;49m]\u001b[39m.\u001b[39;49mprogress_apply(\u001b[39mlambda\u001b[39;49;00m array : [(lemmatizer\u001b[39m.\u001b[39;49mlemmatize(word, tag2sym(pos_tag([word]))), score) \u001b[39mfor\u001b[39;49;00m word, score \u001b[39min\u001b[39;49;00m \u001b[39meval\u001b[39;49m(array)])\n\u001b[1;32m     16\u001b[0m df6[\u001b[39m'\u001b[39m\u001b[39mkeybert_keywords_lemmatized\u001b[39m\u001b[39m'\u001b[39m] \u001b[39m=\u001b[39m df6[\u001b[39m'\u001b[39m\u001b[39mkeybert_keywords\u001b[39m\u001b[39m'\u001b[39m]\u001b[39m.\u001b[39mprogress_apply(\u001b[39mlambda\u001b[39;00m array : [(lemmatizer\u001b[39m.\u001b[39mlemmatize(word, tag2sym(pos_tag([word]))), score) \u001b[39mfor\u001b[39;00m word, score \u001b[39min\u001b[39;00m \u001b[39meval\u001b[39m(array)])\n\u001b[1;32m     18\u001b[0m os\u001b[39m.\u001b[39mmakedirs(\u001b[39mf\u001b[39m\u001b[39m'\u001b[39m\u001b[39m./datasets/\u001b[39m\u001b[39m{\u001b[39;00mmodelname\u001b[39m}\u001b[39;00m\u001b[39m-post-tokenized/\u001b[39m\u001b[39m'\u001b[39m)\n",
      "File \u001b[0;32m~/.local/lib/python3.8/site-packages/tqdm/std.py:805\u001b[0m, in \u001b[0;36mtqdm.pandas.<locals>.inner_generator.<locals>.inner\u001b[0;34m(df, func, *args, **kwargs)\u001b[0m\n\u001b[1;32m    802\u001b[0m \u001b[39m# Apply the provided function (in **kwargs)\u001b[39;00m\n\u001b[1;32m    803\u001b[0m \u001b[39m# on the df using our wrapper (which provides bar updating)\u001b[39;00m\n\u001b[1;32m    804\u001b[0m \u001b[39mtry\u001b[39;00m:\n\u001b[0;32m--> 805\u001b[0m     \u001b[39mreturn\u001b[39;00m \u001b[39mgetattr\u001b[39;49m(df, df_function)(wrapper, \u001b[39m*\u001b[39;49m\u001b[39m*\u001b[39;49mkwargs)\n\u001b[1;32m    806\u001b[0m \u001b[39mfinally\u001b[39;00m:\n\u001b[1;32m    807\u001b[0m     t\u001b[39m.\u001b[39mclose()\n",
      "File \u001b[0;32m/usr/local/lib/python3.8/dist-packages/pandas/core/series.py:4771\u001b[0m, in \u001b[0;36mSeries.apply\u001b[0;34m(self, func, convert_dtype, args, **kwargs)\u001b[0m\n\u001b[1;32m   4661\u001b[0m \u001b[39mdef\u001b[39;00m \u001b[39mapply\u001b[39m(\n\u001b[1;32m   4662\u001b[0m     \u001b[39mself\u001b[39m,\n\u001b[1;32m   4663\u001b[0m     func: AggFuncType,\n\u001b[0;32m   (...)\u001b[0m\n\u001b[1;32m   4666\u001b[0m     \u001b[39m*\u001b[39m\u001b[39m*\u001b[39mkwargs,\n\u001b[1;32m   4667\u001b[0m ) \u001b[39m-\u001b[39m\u001b[39m>\u001b[39m DataFrame \u001b[39m|\u001b[39m Series:\n\u001b[1;32m   4668\u001b[0m \u001b[39m    \u001b[39m\u001b[39m\"\"\"\u001b[39;00m\n\u001b[1;32m   4669\u001b[0m \u001b[39m    Invoke function on values of Series.\u001b[39;00m\n\u001b[1;32m   4670\u001b[0m \n\u001b[0;32m   (...)\u001b[0m\n\u001b[1;32m   4769\u001b[0m \u001b[39m    dtype: float64\u001b[39;00m\n\u001b[1;32m   4770\u001b[0m \u001b[39m    \"\"\"\u001b[39;00m\n\u001b[0;32m-> 4771\u001b[0m     \u001b[39mreturn\u001b[39;00m SeriesApply(\u001b[39mself\u001b[39;49m, func, convert_dtype, args, kwargs)\u001b[39m.\u001b[39;49mapply()\n",
      "File \u001b[0;32m/usr/local/lib/python3.8/dist-packages/pandas/core/apply.py:1105\u001b[0m, in \u001b[0;36mSeriesApply.apply\u001b[0;34m(self)\u001b[0m\n\u001b[1;32m   1102\u001b[0m     \u001b[39mreturn\u001b[39;00m \u001b[39mself\u001b[39m\u001b[39m.\u001b[39mapply_str()\n\u001b[1;32m   1104\u001b[0m \u001b[39m# self.f is Callable\u001b[39;00m\n\u001b[0;32m-> 1105\u001b[0m \u001b[39mreturn\u001b[39;00m \u001b[39mself\u001b[39;49m\u001b[39m.\u001b[39;49mapply_standard()\n",
      "File \u001b[0;32m/usr/local/lib/python3.8/dist-packages/pandas/core/apply.py:1156\u001b[0m, in \u001b[0;36mSeriesApply.apply_standard\u001b[0;34m(self)\u001b[0m\n\u001b[1;32m   1154\u001b[0m     \u001b[39melse\u001b[39;00m:\n\u001b[1;32m   1155\u001b[0m         values \u001b[39m=\u001b[39m obj\u001b[39m.\u001b[39mastype(\u001b[39mobject\u001b[39m)\u001b[39m.\u001b[39m_values\n\u001b[0;32m-> 1156\u001b[0m         mapped \u001b[39m=\u001b[39m lib\u001b[39m.\u001b[39;49mmap_infer(\n\u001b[1;32m   1157\u001b[0m             values,\n\u001b[1;32m   1158\u001b[0m             f,\n\u001b[1;32m   1159\u001b[0m             convert\u001b[39m=\u001b[39;49m\u001b[39mself\u001b[39;49m\u001b[39m.\u001b[39;49mconvert_dtype,\n\u001b[1;32m   1160\u001b[0m         )\n\u001b[1;32m   1162\u001b[0m \u001b[39mif\u001b[39;00m \u001b[39mlen\u001b[39m(mapped) \u001b[39mand\u001b[39;00m \u001b[39misinstance\u001b[39m(mapped[\u001b[39m0\u001b[39m], ABCSeries):\n\u001b[1;32m   1163\u001b[0m     \u001b[39m# GH#43986 Need to do list(mapped) in order to get treated as nested\u001b[39;00m\n\u001b[1;32m   1164\u001b[0m     \u001b[39m#  See also GH#25959 regarding EA support\u001b[39;00m\n\u001b[1;32m   1165\u001b[0m     \u001b[39mreturn\u001b[39;00m obj\u001b[39m.\u001b[39m_constructor_expanddim(\u001b[39mlist\u001b[39m(mapped), index\u001b[39m=\u001b[39mobj\u001b[39m.\u001b[39mindex)\n",
      "File \u001b[0;32m/usr/local/lib/python3.8/dist-packages/pandas/_libs/lib.pyx:2918\u001b[0m, in \u001b[0;36mpandas._libs.lib.map_infer\u001b[0;34m()\u001b[0m\n",
      "File \u001b[0;32m~/.local/lib/python3.8/site-packages/tqdm/std.py:800\u001b[0m, in \u001b[0;36mtqdm.pandas.<locals>.inner_generator.<locals>.inner.<locals>.wrapper\u001b[0;34m(*args, **kwargs)\u001b[0m\n\u001b[1;32m    794\u001b[0m \u001b[39mdef\u001b[39;00m \u001b[39mwrapper\u001b[39m(\u001b[39m*\u001b[39margs, \u001b[39m*\u001b[39m\u001b[39m*\u001b[39mkwargs):\n\u001b[1;32m    795\u001b[0m     \u001b[39m# update tbar correctly\u001b[39;00m\n\u001b[1;32m    796\u001b[0m     \u001b[39m# it seems `pandas apply` calls `func` twice\u001b[39;00m\n\u001b[1;32m    797\u001b[0m     \u001b[39m# on the first column/row to decide whether it can\u001b[39;00m\n\u001b[1;32m    798\u001b[0m     \u001b[39m# take a fast or slow code path; so stop when t.total==t.n\u001b[39;00m\n\u001b[1;32m    799\u001b[0m     t\u001b[39m.\u001b[39mupdate(n\u001b[39m=\u001b[39m\u001b[39m1\u001b[39m \u001b[39mif\u001b[39;00m \u001b[39mnot\u001b[39;00m t\u001b[39m.\u001b[39mtotal \u001b[39mor\u001b[39;00m t\u001b[39m.\u001b[39mn \u001b[39m<\u001b[39m t\u001b[39m.\u001b[39mtotal \u001b[39melse\u001b[39;00m \u001b[39m0\u001b[39m)\n\u001b[0;32m--> 800\u001b[0m     \u001b[39mreturn\u001b[39;00m func(\u001b[39m*\u001b[39;49margs, \u001b[39m*\u001b[39;49m\u001b[39m*\u001b[39;49mkwargs)\n",
      "Cell \u001b[0;32mIn[4], line 15\u001b[0m, in \u001b[0;36m<lambda>\u001b[0;34m(array)\u001b[0m\n\u001b[1;32m     13\u001b[0m df3[\u001b[39m'\u001b[39m\u001b[39mkeybert_keywords_lemmatized\u001b[39m\u001b[39m'\u001b[39m] \u001b[39m=\u001b[39m df3[\u001b[39m'\u001b[39m\u001b[39mkeybert_keywords\u001b[39m\u001b[39m'\u001b[39m]\u001b[39m.\u001b[39mprogress_apply(\u001b[39mlambda\u001b[39;00m array : [(lemmatizer\u001b[39m.\u001b[39mlemmatize(word, tag2sym(pos_tag([word]))), score) \u001b[39mfor\u001b[39;00m word, score \u001b[39min\u001b[39;00m \u001b[39meval\u001b[39m(array)])\n\u001b[1;32m     14\u001b[0m df4[\u001b[39m'\u001b[39m\u001b[39mkeybert_keywords_lemmatized\u001b[39m\u001b[39m'\u001b[39m] \u001b[39m=\u001b[39m df4[\u001b[39m'\u001b[39m\u001b[39mkeybert_keywords\u001b[39m\u001b[39m'\u001b[39m]\u001b[39m.\u001b[39mprogress_apply(\u001b[39mlambda\u001b[39;00m array : [(lemmatizer\u001b[39m.\u001b[39mlemmatize(word, tag2sym(pos_tag([word]))), score) \u001b[39mfor\u001b[39;00m word, score \u001b[39min\u001b[39;00m \u001b[39meval\u001b[39m(array)])\n\u001b[0;32m---> 15\u001b[0m df5[\u001b[39m'\u001b[39m\u001b[39mkeybert_keywords_lemmatized\u001b[39m\u001b[39m'\u001b[39m] \u001b[39m=\u001b[39m df5[\u001b[39m'\u001b[39m\u001b[39mkeybert_keywords\u001b[39m\u001b[39m'\u001b[39m]\u001b[39m.\u001b[39mprogress_apply(\u001b[39mlambda\u001b[39;00m array : [(lemmatizer\u001b[39m.\u001b[39mlemmatize(word, tag2sym(pos_tag([word]))), score) \u001b[39mfor\u001b[39;00m word, score \u001b[39min\u001b[39;00m \u001b[39meval\u001b[39m(array)])\n\u001b[1;32m     16\u001b[0m df6[\u001b[39m'\u001b[39m\u001b[39mkeybert_keywords_lemmatized\u001b[39m\u001b[39m'\u001b[39m] \u001b[39m=\u001b[39m df6[\u001b[39m'\u001b[39m\u001b[39mkeybert_keywords\u001b[39m\u001b[39m'\u001b[39m]\u001b[39m.\u001b[39mprogress_apply(\u001b[39mlambda\u001b[39;00m array : [(lemmatizer\u001b[39m.\u001b[39mlemmatize(word, tag2sym(pos_tag([word]))), score) \u001b[39mfor\u001b[39;00m word, score \u001b[39min\u001b[39;00m \u001b[39meval\u001b[39m(array)])\n\u001b[1;32m     18\u001b[0m os\u001b[39m.\u001b[39mmakedirs(\u001b[39mf\u001b[39m\u001b[39m'\u001b[39m\u001b[39m./datasets/\u001b[39m\u001b[39m{\u001b[39;00mmodelname\u001b[39m}\u001b[39;00m\u001b[39m-post-tokenized/\u001b[39m\u001b[39m'\u001b[39m)\n",
      "Cell \u001b[0;32mIn[4], line 15\u001b[0m, in \u001b[0;36m<listcomp>\u001b[0;34m(.0)\u001b[0m\n\u001b[1;32m     13\u001b[0m df3[\u001b[39m'\u001b[39m\u001b[39mkeybert_keywords_lemmatized\u001b[39m\u001b[39m'\u001b[39m] \u001b[39m=\u001b[39m df3[\u001b[39m'\u001b[39m\u001b[39mkeybert_keywords\u001b[39m\u001b[39m'\u001b[39m]\u001b[39m.\u001b[39mprogress_apply(\u001b[39mlambda\u001b[39;00m array : [(lemmatizer\u001b[39m.\u001b[39mlemmatize(word, tag2sym(pos_tag([word]))), score) \u001b[39mfor\u001b[39;00m word, score \u001b[39min\u001b[39;00m \u001b[39meval\u001b[39m(array)])\n\u001b[1;32m     14\u001b[0m df4[\u001b[39m'\u001b[39m\u001b[39mkeybert_keywords_lemmatized\u001b[39m\u001b[39m'\u001b[39m] \u001b[39m=\u001b[39m df4[\u001b[39m'\u001b[39m\u001b[39mkeybert_keywords\u001b[39m\u001b[39m'\u001b[39m]\u001b[39m.\u001b[39mprogress_apply(\u001b[39mlambda\u001b[39;00m array : [(lemmatizer\u001b[39m.\u001b[39mlemmatize(word, tag2sym(pos_tag([word]))), score) \u001b[39mfor\u001b[39;00m word, score \u001b[39min\u001b[39;00m \u001b[39meval\u001b[39m(array)])\n\u001b[0;32m---> 15\u001b[0m df5[\u001b[39m'\u001b[39m\u001b[39mkeybert_keywords_lemmatized\u001b[39m\u001b[39m'\u001b[39m] \u001b[39m=\u001b[39m df5[\u001b[39m'\u001b[39m\u001b[39mkeybert_keywords\u001b[39m\u001b[39m'\u001b[39m]\u001b[39m.\u001b[39mprogress_apply(\u001b[39mlambda\u001b[39;00m array : [(lemmatizer\u001b[39m.\u001b[39mlemmatize(word, tag2sym(pos_tag([word]))), score) \u001b[39mfor\u001b[39;00m word, score \u001b[39min\u001b[39;00m \u001b[39meval\u001b[39m(array)])\n\u001b[1;32m     16\u001b[0m df6[\u001b[39m'\u001b[39m\u001b[39mkeybert_keywords_lemmatized\u001b[39m\u001b[39m'\u001b[39m] \u001b[39m=\u001b[39m df6[\u001b[39m'\u001b[39m\u001b[39mkeybert_keywords\u001b[39m\u001b[39m'\u001b[39m]\u001b[39m.\u001b[39mprogress_apply(\u001b[39mlambda\u001b[39;00m array : [(lemmatizer\u001b[39m.\u001b[39mlemmatize(word, tag2sym(pos_tag([word]))), score) \u001b[39mfor\u001b[39;00m word, score \u001b[39min\u001b[39;00m \u001b[39meval\u001b[39m(array)])\n\u001b[1;32m     18\u001b[0m os\u001b[39m.\u001b[39mmakedirs(\u001b[39mf\u001b[39m\u001b[39m'\u001b[39m\u001b[39m./datasets/\u001b[39m\u001b[39m{\u001b[39;00mmodelname\u001b[39m}\u001b[39;00m\u001b[39m-post-tokenized/\u001b[39m\u001b[39m'\u001b[39m)\n",
      "File \u001b[0;32m/usr/local/lib/python3.8/dist-packages/nltk/tag/__init__.py:166\u001b[0m, in \u001b[0;36mpos_tag\u001b[0;34m(tokens, tagset, lang)\u001b[0m\n\u001b[1;32m    141\u001b[0m \u001b[39m\u001b[39m\u001b[39m\"\"\"\u001b[39;00m\n\u001b[1;32m    142\u001b[0m \u001b[39mUse NLTK's currently recommended part of speech tagger to\u001b[39;00m\n\u001b[1;32m    143\u001b[0m \u001b[39mtag the given list of tokens.\u001b[39;00m\n\u001b[0;32m   (...)\u001b[0m\n\u001b[1;32m    163\u001b[0m \u001b[39m:rtype: list(tuple(str, str))\u001b[39;00m\n\u001b[1;32m    164\u001b[0m \u001b[39m\"\"\"\u001b[39;00m\n\u001b[1;32m    165\u001b[0m tagger \u001b[39m=\u001b[39m _get_tagger(lang)\n\u001b[0;32m--> 166\u001b[0m \u001b[39mreturn\u001b[39;00m _pos_tag(tokens, tagset, tagger, lang)\n",
      "File \u001b[0;32m/usr/local/lib/python3.8/dist-packages/nltk/tag/__init__.py:123\u001b[0m, in \u001b[0;36m_pos_tag\u001b[0;34m(tokens, tagset, tagger, lang)\u001b[0m\n\u001b[1;32m    120\u001b[0m     \u001b[39mraise\u001b[39;00m \u001b[39mTypeError\u001b[39;00m(\u001b[39m\"\u001b[39m\u001b[39mtokens: expected a list of strings, got a string\u001b[39m\u001b[39m\"\u001b[39m)\n\u001b[1;32m    122\u001b[0m \u001b[39melse\u001b[39;00m:\n\u001b[0;32m--> 123\u001b[0m     tagged_tokens \u001b[39m=\u001b[39m tagger\u001b[39m.\u001b[39;49mtag(tokens)\n\u001b[1;32m    124\u001b[0m     \u001b[39mif\u001b[39;00m tagset:  \u001b[39m# Maps to the specified tagset.\u001b[39;00m\n\u001b[1;32m    125\u001b[0m         \u001b[39mif\u001b[39;00m lang \u001b[39m==\u001b[39m \u001b[39m\"\u001b[39m\u001b[39meng\u001b[39m\u001b[39m\"\u001b[39m:\n",
      "File \u001b[0;32m/usr/local/lib/python3.8/dist-packages/nltk/tag/perceptron.py:187\u001b[0m, in \u001b[0;36mPerceptronTagger.tag\u001b[0;34m(self, tokens, return_conf, use_tagdict)\u001b[0m\n\u001b[1;32m    185\u001b[0m \u001b[39mif\u001b[39;00m \u001b[39mnot\u001b[39;00m tag:\n\u001b[1;32m    186\u001b[0m     features \u001b[39m=\u001b[39m \u001b[39mself\u001b[39m\u001b[39m.\u001b[39m_get_features(i, word, context, prev, prev2)\n\u001b[0;32m--> 187\u001b[0m     tag, conf \u001b[39m=\u001b[39m \u001b[39mself\u001b[39;49m\u001b[39m.\u001b[39;49mmodel\u001b[39m.\u001b[39;49mpredict(features, return_conf)\n\u001b[1;32m    188\u001b[0m output\u001b[39m.\u001b[39mappend((word, tag, conf) \u001b[39mif\u001b[39;00m return_conf \u001b[39m==\u001b[39m \u001b[39mTrue\u001b[39;00m \u001b[39melse\u001b[39;00m (word, tag))\n\u001b[1;32m    190\u001b[0m prev2 \u001b[39m=\u001b[39m prev\n",
      "File \u001b[0;32m/usr/local/lib/python3.8/dist-packages/nltk/tag/perceptron.py:69\u001b[0m, in \u001b[0;36mAveragedPerceptron.predict\u001b[0;34m(self, features, return_conf)\u001b[0m\n\u001b[1;32m     66\u001b[0m         scores[label] \u001b[39m+\u001b[39m\u001b[39m=\u001b[39m value \u001b[39m*\u001b[39m weight\n\u001b[1;32m     68\u001b[0m \u001b[39m# Do a secondary alphabetic sort, for stability\u001b[39;00m\n\u001b[0;32m---> 69\u001b[0m best_label \u001b[39m=\u001b[39m \u001b[39mmax\u001b[39;49m(\u001b[39mself\u001b[39;49m\u001b[39m.\u001b[39;49mclasses, key\u001b[39m=\u001b[39;49m\u001b[39mlambda\u001b[39;49;00m label: (scores[label], label))\n\u001b[1;32m     70\u001b[0m \u001b[39m# compute the confidence\u001b[39;00m\n\u001b[1;32m     71\u001b[0m conf \u001b[39m=\u001b[39m \u001b[39mmax\u001b[39m(\u001b[39mself\u001b[39m\u001b[39m.\u001b[39m_softmax(scores)) \u001b[39mif\u001b[39;00m return_conf \u001b[39m==\u001b[39m \u001b[39mTrue\u001b[39;00m \u001b[39melse\u001b[39;00m \u001b[39mNone\u001b[39;00m\n",
      "File \u001b[0;32m/usr/local/lib/python3.8/dist-packages/nltk/tag/perceptron.py:69\u001b[0m, in \u001b[0;36mAveragedPerceptron.predict.<locals>.<lambda>\u001b[0;34m(label)\u001b[0m\n\u001b[1;32m     66\u001b[0m         scores[label] \u001b[39m+\u001b[39m\u001b[39m=\u001b[39m value \u001b[39m*\u001b[39m weight\n\u001b[1;32m     68\u001b[0m \u001b[39m# Do a secondary alphabetic sort, for stability\u001b[39;00m\n\u001b[0;32m---> 69\u001b[0m best_label \u001b[39m=\u001b[39m \u001b[39mmax\u001b[39m(\u001b[39mself\u001b[39m\u001b[39m.\u001b[39mclasses, key\u001b[39m=\u001b[39m\u001b[39mlambda\u001b[39;00m label: (scores[label], label))\n\u001b[1;32m     70\u001b[0m \u001b[39m# compute the confidence\u001b[39;00m\n\u001b[1;32m     71\u001b[0m conf \u001b[39m=\u001b[39m \u001b[39mmax\u001b[39m(\u001b[39mself\u001b[39m\u001b[39m.\u001b[39m_softmax(scores)) \u001b[39mif\u001b[39;00m return_conf \u001b[39m==\u001b[39m \u001b[39mTrue\u001b[39;00m \u001b[39melse\u001b[39;00m \u001b[39mNone\u001b[39;00m\n",
      "\u001b[0;31mKeyboardInterrupt\u001b[0m: "
     ]
    }
   ],
   "source": [
    "for modelname in [path for path in os.listdir('./datasets/') if path[:7] == 'keybert']:\n",
    "    print(f'PROCESSING {modelname}')\n",
    "\n",
    "    df1 = pd.read_csv(f'./datasets/{modelname}/roblox1.csv', low_memory = False, index_col = 0)\n",
    "    df2 = pd.read_csv(f'./datasets/{modelname}/roblox2.csv', low_memory = False, index_col = 0)\n",
    "    df3 = pd.read_csv(f'./datasets/{modelname}/roblox3.csv', low_memory = False, index_col = 0)\n",
    "    df4 = pd.read_csv(f'./datasets/{modelname}/roblox4.csv', low_memory = False, index_col = 0)\n",
    "    df5 = pd.read_csv(f'./datasets/{modelname}/roblox5.csv', low_memory = False, index_col = 0)\n",
    "    df6 = pd.read_csv(f'./datasets/{modelname}/zepeto.csv', low_memory = False, index_col = 0)\n",
    "\n",
    "    df1['keybert_keywords_lemmatized'] = df1['keybert_keywords'].progress_apply(lambda array : [(lemmatizer.lemmatize(word, tag2sym(pos_tag([word]))), score) for word, score in eval(array)])\n",
    "    df2['keybert_keywords_lemmatized'] = df2['keybert_keywords'].progress_apply(lambda array : [(lemmatizer.lemmatize(word, tag2sym(pos_tag([word]))), score) for word, score in eval(array)])\n",
    "    df3['keybert_keywords_lemmatized'] = df3['keybert_keywords'].progress_apply(lambda array : [(lemmatizer.lemmatize(word, tag2sym(pos_tag([word]))), score) for word, score in eval(array)])\n",
    "    df4['keybert_keywords_lemmatized'] = df4['keybert_keywords'].progress_apply(lambda array : [(lemmatizer.lemmatize(word, tag2sym(pos_tag([word]))), score) for word, score in eval(array)])\n",
    "    df5['keybert_keywords_lemmatized'] = df5['keybert_keywords'].progress_apply(lambda array : [(lemmatizer.lemmatize(word, tag2sym(pos_tag([word]))), score) for word, score in eval(array)])\n",
    "    df6['keybert_keywords_lemmatized'] = df6['keybert_keywords'].progress_apply(lambda array : [(lemmatizer.lemmatize(word, tag2sym(pos_tag([word]))), score) for word, score in eval(array)])\n",
    "\n",
    "    os.makedirs(f'./datasets/{modelname}-post-tokenized/')\n",
    "\n",
    "    df1.to_csv(f'./datasets/{modelname}-post-tokenized/roblox1.csv')\n",
    "    df2.to_csv(f'./datasets/{modelname}-post-tokenized/roblox2.csv')\n",
    "    df3.to_csv(f'./datasets/{modelname}-post-tokenized/roblox3.csv')\n",
    "    df4.to_csv(f'./datasets/{modelname}-post-tokenized/roblox4.csv')\n",
    "    df5.to_csv(f'./datasets/{modelname}-post-tokenized/roblox5.csv')\n",
    "    df6.to_csv(f'./datasets/{modelname}-post-tokenized/zepeto.csv')"
   ]
  },
  {
   "cell_type": "code",
   "execution_count": null,
   "metadata": {},
   "outputs": [],
   "source": []
  }
 ],
 "metadata": {
  "kernelspec": {
   "display_name": "Python 3",
   "language": "python",
   "name": "python3"
  },
  "language_info": {
   "codemirror_mode": {
    "name": "ipython",
    "version": 3
   },
   "file_extension": ".py",
   "mimetype": "text/x-python",
   "name": "python",
   "nbconvert_exporter": "python",
   "pygments_lexer": "ipython3",
   "version": "3.8.10"
  },
  "orig_nbformat": 4,
  "vscode": {
   "interpreter": {
    "hash": "767d51c1340bd893661ea55ea3124f6de3c7a262a8b4abca0554b478b1e2ff90"
   }
  }
 },
 "nbformat": 4,
 "nbformat_minor": 2
}
