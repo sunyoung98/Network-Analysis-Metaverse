{
 "cells": [
  {
   "cell_type": "code",
   "execution_count": null,
   "metadata": {},
   "outputs": [],
   "source": [
    "from tqdm import tqdm\n",
    "import os\n",
    "import pandas as pd"
   ]
  },
  {
   "cell_type": "code",
   "execution_count": null,
   "metadata": {},
   "outputs": [],
   "source": [
    "dfs = []"
   ]
  },
  {
   "cell_type": "code",
   "execution_count": null,
   "metadata": {},
   "outputs": [],
   "source": [
    "for filename in tqdm(os.listdir('./datasets/original/')):\n",
    "    dfs.append(pd.read_csv(f'./datasets/original/{filename}', index_col = 0, low_memory = False))"
   ]
  },
  {
   "cell_type": "code",
   "execution_count": null,
   "metadata": {},
   "outputs": [],
   "source": [
    "df = pd.concat(dfs).reset_index(drop = True)"
   ]
  },
  {
   "cell_type": "code",
   "execution_count": null,
   "metadata": {},
   "outputs": [],
   "source": [
    "df.head(10)"
   ]
  },
  {
   "cell_type": "code",
   "execution_count": null,
   "metadata": {},
   "outputs": [],
   "source": [
    "dfs = []"
   ]
  },
  {
   "cell_type": "code",
   "execution_count": null,
   "metadata": {},
   "outputs": [],
   "source": [
    "for filename in tqdm(os.listdir('./datasets/keybert-all-mpnet-base-v2/')):\n",
    "    dfs.append(pd.read_csv(f'./datasets/original/{filename}', index_col = 0, low_memory = False))"
   ]
  },
  {
   "cell_type": "code",
   "execution_count": null,
   "metadata": {},
   "outputs": [],
   "source": [
    "kdf = pd.concat(dfs).reset_index(drop = True)"
   ]
  },
  {
   "cell_type": "code",
   "execution_count": null,
   "metadata": {},
   "outputs": [],
   "source": [
    "kdf.head(10)"
   ]
  },
  {
   "cell_type": "code",
   "execution_count": null,
   "metadata": {},
   "outputs": [],
   "source": [
    "kdf[['content', 'keybert_keywords']]"
   ]
  },
  {
   "cell_type": "code",
   "execution_count": 1,
   "metadata": {},
   "outputs": [
    {
     "name": "stderr",
     "output_type": "stream",
     "text": [
      "/usr/local/lib/python3.8/dist-packages/pandas/core/computation/expressions.py:20: UserWarning: Pandas requires version '2.7.3' or newer of 'numexpr' (version '2.7.0' currently installed).\n",
      "  from pandas.core.computation.check import NUMEXPR_INSTALLED\n"
     ]
    }
   ],
   "source": [
    "import pandas as pd"
   ]
  },
  {
   "cell_type": "code",
   "execution_count": 2,
   "metadata": {},
   "outputs": [],
   "source": [
    "df = pd.read_csv('./datasets/keybert-all-MiniLM-L12-v2-post-tokenized/roblox1.csv', index_col = 0)"
   ]
  },
  {
   "cell_type": "code",
   "execution_count": 3,
   "metadata": {},
   "outputs": [
    {
     "data": {
      "text/html": [
       "<div>\n",
       "<style scoped>\n",
       "    .dataframe tbody tr th:only-of-type {\n",
       "        vertical-align: middle;\n",
       "    }\n",
       "\n",
       "    .dataframe tbody tr th {\n",
       "        vertical-align: top;\n",
       "    }\n",
       "\n",
       "    .dataframe thead th {\n",
       "        text-align: right;\n",
       "    }\n",
       "</style>\n",
       "<table border=\"1\" class=\"dataframe\">\n",
       "  <thead>\n",
       "    <tr style=\"text-align: right;\">\n",
       "      <th></th>\n",
       "      <th>reviewId</th>\n",
       "      <th>userName</th>\n",
       "      <th>content</th>\n",
       "      <th>score</th>\n",
       "      <th>keybert_keywords</th>\n",
       "      <th>keybert_keywords_lemmatized</th>\n",
       "    </tr>\n",
       "  </thead>\n",
       "  <tbody>\n",
       "    <tr>\n",
       "      <th>0</th>\n",
       "      <td>05426917-05d0-4cce-89d7-27fa81c313f3</td>\n",
       "      <td>LT. Silver</td>\n",
       "      <td>As a person who has played this game for many ...</td>\n",
       "      <td>4</td>\n",
       "      <td>[('lag', 0.4219), ('chat', 0.3818), ('issues',...</td>\n",
       "      <td>[('lag', 0.4219), ('chat', 0.3818), ('issue', ...</td>\n",
       "    </tr>\n",
       "    <tr>\n",
       "      <th>1</th>\n",
       "      <td>1ef0a865-6bb8-4d2b-911c-ac0603ec3091</td>\n",
       "      <td>Hiba Nur</td>\n",
       "      <td>Overall the game is pretty good, but there are...</td>\n",
       "      <td>4</td>\n",
       "      <td>[('bugs', 0.4434), ('game', 0.328), ('games', ...</td>\n",
       "      <td>[('bug', 0.4434), ('game', 0.328), ('game', 0....</td>\n",
       "    </tr>\n",
       "    <tr>\n",
       "      <th>2</th>\n",
       "      <td>6822f649-eeb4-420b-9630-920709c741c7</td>\n",
       "      <td>Graham Purdue</td>\n",
       "      <td>It's a little mixed for me, the interface is k...</td>\n",
       "      <td>4</td>\n",
       "      <td>[('games', 0.4058), ('interface', 0.3158), ('p...</td>\n",
       "      <td>[('game', 0.4058), ('interface', 0.3158), ('pl...</td>\n",
       "    </tr>\n",
       "    <tr>\n",
       "      <th>3</th>\n",
       "      <td>350fe8a7-7acd-4520-8382-1e8b3fa60b06</td>\n",
       "      <td>Amber Wood</td>\n",
       "      <td>I have been playing this game for 6 years sinc...</td>\n",
       "      <td>3</td>\n",
       "      <td>[('game', 0.4359), ('glitches', 0.4349), ('pro...</td>\n",
       "      <td>[('game', 0.4359), ('glitch', 0.4349), ('probl...</td>\n",
       "    </tr>\n",
       "    <tr>\n",
       "      <th>4</th>\n",
       "      <td>1c0c638e-8c94-4421-bd3c-0b13d2f1aed5</td>\n",
       "      <td>Sophia Lewis</td>\n",
       "      <td>Hello, I like on how it is very limitless and ...</td>\n",
       "      <td>3</td>\n",
       "      <td>[('loading', 0.3864), ('limitless', 0.3546), (...</td>\n",
       "      <td>[('loading', 0.3864), ('limitless', 0.3546), (...</td>\n",
       "    </tr>\n",
       "  </tbody>\n",
       "</table>\n",
       "</div>"
      ],
      "text/plain": [
       "                               reviewId       userName  \\\n",
       "0  05426917-05d0-4cce-89d7-27fa81c313f3     LT. Silver   \n",
       "1  1ef0a865-6bb8-4d2b-911c-ac0603ec3091       Hiba Nur   \n",
       "2  6822f649-eeb4-420b-9630-920709c741c7  Graham Purdue   \n",
       "3  350fe8a7-7acd-4520-8382-1e8b3fa60b06     Amber Wood   \n",
       "4  1c0c638e-8c94-4421-bd3c-0b13d2f1aed5   Sophia Lewis   \n",
       "\n",
       "                                             content  score  \\\n",
       "0  As a person who has played this game for many ...      4   \n",
       "1  Overall the game is pretty good, but there are...      4   \n",
       "2  It's a little mixed for me, the interface is k...      4   \n",
       "3  I have been playing this game for 6 years sinc...      3   \n",
       "4  Hello, I like on how it is very limitless and ...      3   \n",
       "\n",
       "                                    keybert_keywords  \\\n",
       "0  [('lag', 0.4219), ('chat', 0.3818), ('issues',...   \n",
       "1  [('bugs', 0.4434), ('game', 0.328), ('games', ...   \n",
       "2  [('games', 0.4058), ('interface', 0.3158), ('p...   \n",
       "3  [('game', 0.4359), ('glitches', 0.4349), ('pro...   \n",
       "4  [('loading', 0.3864), ('limitless', 0.3546), (...   \n",
       "\n",
       "                         keybert_keywords_lemmatized  \n",
       "0  [('lag', 0.4219), ('chat', 0.3818), ('issue', ...  \n",
       "1  [('bug', 0.4434), ('game', 0.328), ('game', 0....  \n",
       "2  [('game', 0.4058), ('interface', 0.3158), ('pl...  \n",
       "3  [('game', 0.4359), ('glitch', 0.4349), ('probl...  \n",
       "4  [('loading', 0.3864), ('limitless', 0.3546), (...  "
      ]
     },
     "execution_count": 3,
     "metadata": {},
     "output_type": "execute_result"
    }
   ],
   "source": [
    "df[['reviewId', 'userName', 'content', 'score', 'keybert_keywords', 'keybert_keywords_lemmatized']].head()"
   ]
  },
  {
   "cell_type": "code",
   "execution_count": 4,
   "metadata": {},
   "outputs": [],
   "source": [
    "df = pd.read_csv('./datasets/keybert-all-MiniLM-L12-v2-tokenized/roblox1.csv', index_col = 0)"
   ]
  },
  {
   "cell_type": "code",
   "execution_count": 5,
   "metadata": {},
   "outputs": [
    {
     "data": {
      "text/html": [
       "<div>\n",
       "<style scoped>\n",
       "    .dataframe tbody tr th:only-of-type {\n",
       "        vertical-align: middle;\n",
       "    }\n",
       "\n",
       "    .dataframe tbody tr th {\n",
       "        vertical-align: top;\n",
       "    }\n",
       "\n",
       "    .dataframe thead th {\n",
       "        text-align: right;\n",
       "    }\n",
       "</style>\n",
       "<table border=\"1\" class=\"dataframe\">\n",
       "  <thead>\n",
       "    <tr style=\"text-align: right;\">\n",
       "      <th></th>\n",
       "      <th>reviewId</th>\n",
       "      <th>userName</th>\n",
       "      <th>content</th>\n",
       "      <th>score</th>\n",
       "      <th>keybert_keywords</th>\n",
       "    </tr>\n",
       "  </thead>\n",
       "  <tbody>\n",
       "    <tr>\n",
       "      <th>0</th>\n",
       "      <td>05426917-05d0-4cce-89d7-27fa81c313f3</td>\n",
       "      <td>LT. Silver</td>\n",
       "      <td>As a person who has played this game for many ...</td>\n",
       "      <td>4</td>\n",
       "      <td>[[('person', 1.0)], [('game', 1.0)], [('year',...</td>\n",
       "    </tr>\n",
       "    <tr>\n",
       "      <th>1</th>\n",
       "      <td>1ef0a865-6bb8-4d2b-911c-ac0603ec3091</td>\n",
       "      <td>Hiba Nur</td>\n",
       "      <td>Overall the game is pretty good, but there are...</td>\n",
       "      <td>4</td>\n",
       "      <td>[[('game', 1.0)], [('couple', 1.0)], [('bug', ...</td>\n",
       "    </tr>\n",
       "    <tr>\n",
       "      <th>2</th>\n",
       "      <td>6822f649-eeb4-420b-9630-920709c741c7</td>\n",
       "      <td>Graham Purdue</td>\n",
       "      <td>It's a little mixed for me, the interface is k...</td>\n",
       "      <td>4</td>\n",
       "      <td>[[('interface', 1.0)], [('kinda', 1.0)], [('we...</td>\n",
       "    </tr>\n",
       "    <tr>\n",
       "      <th>3</th>\n",
       "      <td>350fe8a7-7acd-4520-8382-1e8b3fa60b06</td>\n",
       "      <td>Amber Wood</td>\n",
       "      <td>I have been playing this game for 6 years sinc...</td>\n",
       "      <td>3</td>\n",
       "      <td>[[('game', 1.0)], [('year', 1.0)], [('wa', 1.0...</td>\n",
       "    </tr>\n",
       "    <tr>\n",
       "      <th>4</th>\n",
       "      <td>1c0c638e-8c94-4421-bd3c-0b13d2f1aed5</td>\n",
       "      <td>Sophia Lewis</td>\n",
       "      <td>Hello, I like on how it is very limitless and ...</td>\n",
       "      <td>3</td>\n",
       "      <td>[[('hello', 1.0)], [('limitless', 1.0)], [('fu...</td>\n",
       "    </tr>\n",
       "  </tbody>\n",
       "</table>\n",
       "</div>"
      ],
      "text/plain": [
       "                               reviewId       userName  \\\n",
       "0  05426917-05d0-4cce-89d7-27fa81c313f3     LT. Silver   \n",
       "1  1ef0a865-6bb8-4d2b-911c-ac0603ec3091       Hiba Nur   \n",
       "2  6822f649-eeb4-420b-9630-920709c741c7  Graham Purdue   \n",
       "3  350fe8a7-7acd-4520-8382-1e8b3fa60b06     Amber Wood   \n",
       "4  1c0c638e-8c94-4421-bd3c-0b13d2f1aed5   Sophia Lewis   \n",
       "\n",
       "                                             content  score  \\\n",
       "0  As a person who has played this game for many ...      4   \n",
       "1  Overall the game is pretty good, but there are...      4   \n",
       "2  It's a little mixed for me, the interface is k...      4   \n",
       "3  I have been playing this game for 6 years sinc...      3   \n",
       "4  Hello, I like on how it is very limitless and ...      3   \n",
       "\n",
       "                                    keybert_keywords  \n",
       "0  [[('person', 1.0)], [('game', 1.0)], [('year',...  \n",
       "1  [[('game', 1.0)], [('couple', 1.0)], [('bug', ...  \n",
       "2  [[('interface', 1.0)], [('kinda', 1.0)], [('we...  \n",
       "3  [[('game', 1.0)], [('year', 1.0)], [('wa', 1.0...  \n",
       "4  [[('hello', 1.0)], [('limitless', 1.0)], [('fu...  "
      ]
     },
     "execution_count": 5,
     "metadata": {},
     "output_type": "execute_result"
    }
   ],
   "source": [
    "df[['reviewId', 'userName', 'content', 'score', 'keybert_keywords']].head()"
   ]
  },
  {
   "cell_type": "code",
   "execution_count": 6,
   "metadata": {},
   "outputs": [],
   "source": [
    "df = pd.read_csv('./datasets/keybert-all-MiniLM-L12-v2/roblox1.csv', index_col = 0)"
   ]
  },
  {
   "cell_type": "code",
   "execution_count": 8,
   "metadata": {},
   "outputs": [
    {
     "data": {
      "text/html": [
       "<div>\n",
       "<style scoped>\n",
       "    .dataframe tbody tr th:only-of-type {\n",
       "        vertical-align: middle;\n",
       "    }\n",
       "\n",
       "    .dataframe tbody tr th {\n",
       "        vertical-align: top;\n",
       "    }\n",
       "\n",
       "    .dataframe thead th {\n",
       "        text-align: right;\n",
       "    }\n",
       "</style>\n",
       "<table border=\"1\" class=\"dataframe\">\n",
       "  <thead>\n",
       "    <tr style=\"text-align: right;\">\n",
       "      <th></th>\n",
       "      <th>reviewId</th>\n",
       "      <th>userName</th>\n",
       "      <th>content</th>\n",
       "      <th>score</th>\n",
       "      <th>keybert_keywords</th>\n",
       "    </tr>\n",
       "  </thead>\n",
       "  <tbody>\n",
       "    <tr>\n",
       "      <th>0</th>\n",
       "      <td>05426917-05d0-4cce-89d7-27fa81c313f3</td>\n",
       "      <td>LT. Silver</td>\n",
       "      <td>As a person who has played this game for many ...</td>\n",
       "      <td>4</td>\n",
       "      <td>[('lag', 0.4219), ('chat', 0.3818), ('issues',...</td>\n",
       "    </tr>\n",
       "    <tr>\n",
       "      <th>1</th>\n",
       "      <td>1ef0a865-6bb8-4d2b-911c-ac0603ec3091</td>\n",
       "      <td>Hiba Nur</td>\n",
       "      <td>Overall the game is pretty good, but there are...</td>\n",
       "      <td>4</td>\n",
       "      <td>[('bugs', 0.4434), ('game', 0.328), ('games', ...</td>\n",
       "    </tr>\n",
       "    <tr>\n",
       "      <th>2</th>\n",
       "      <td>6822f649-eeb4-420b-9630-920709c741c7</td>\n",
       "      <td>Graham Purdue</td>\n",
       "      <td>It's a little mixed for me, the interface is k...</td>\n",
       "      <td>4</td>\n",
       "      <td>[('games', 0.4058), ('interface', 0.3158), ('p...</td>\n",
       "    </tr>\n",
       "    <tr>\n",
       "      <th>3</th>\n",
       "      <td>350fe8a7-7acd-4520-8382-1e8b3fa60b06</td>\n",
       "      <td>Amber Wood</td>\n",
       "      <td>I have been playing this game for 6 years sinc...</td>\n",
       "      <td>3</td>\n",
       "      <td>[('game', 0.4359), ('glitches', 0.4349), ('pro...</td>\n",
       "    </tr>\n",
       "    <tr>\n",
       "      <th>4</th>\n",
       "      <td>1c0c638e-8c94-4421-bd3c-0b13d2f1aed5</td>\n",
       "      <td>Sophia Lewis</td>\n",
       "      <td>Hello, I like on how it is very limitless and ...</td>\n",
       "      <td>3</td>\n",
       "      <td>[('loading', 0.3864), ('limitless', 0.3546), (...</td>\n",
       "    </tr>\n",
       "  </tbody>\n",
       "</table>\n",
       "</div>"
      ],
      "text/plain": [
       "                               reviewId       userName  \\\n",
       "0  05426917-05d0-4cce-89d7-27fa81c313f3     LT. Silver   \n",
       "1  1ef0a865-6bb8-4d2b-911c-ac0603ec3091       Hiba Nur   \n",
       "2  6822f649-eeb4-420b-9630-920709c741c7  Graham Purdue   \n",
       "3  350fe8a7-7acd-4520-8382-1e8b3fa60b06     Amber Wood   \n",
       "4  1c0c638e-8c94-4421-bd3c-0b13d2f1aed5   Sophia Lewis   \n",
       "\n",
       "                                             content  score  \\\n",
       "0  As a person who has played this game for many ...      4   \n",
       "1  Overall the game is pretty good, but there are...      4   \n",
       "2  It's a little mixed for me, the interface is k...      4   \n",
       "3  I have been playing this game for 6 years sinc...      3   \n",
       "4  Hello, I like on how it is very limitless and ...      3   \n",
       "\n",
       "                                    keybert_keywords  \n",
       "0  [('lag', 0.4219), ('chat', 0.3818), ('issues',...  \n",
       "1  [('bugs', 0.4434), ('game', 0.328), ('games', ...  \n",
       "2  [('games', 0.4058), ('interface', 0.3158), ('p...  \n",
       "3  [('game', 0.4359), ('glitches', 0.4349), ('pro...  \n",
       "4  [('loading', 0.3864), ('limitless', 0.3546), (...  "
      ]
     },
     "execution_count": 8,
     "metadata": {},
     "output_type": "execute_result"
    }
   ],
   "source": [
    "df[['reviewId', 'userName', 'content', 'score', 'keybert_keywords']].head()"
   ]
  },
  {
   "cell_type": "code",
   "execution_count": null,
   "metadata": {},
   "outputs": [],
   "source": []
  }
 ],
 "metadata": {
  "kernelspec": {
   "display_name": "Python 3",
   "language": "python",
   "name": "python3"
  },
  "language_info": {
   "codemirror_mode": {
    "name": "ipython",
    "version": 3
   },
   "file_extension": ".py",
   "mimetype": "text/x-python",
   "name": "python",
   "nbconvert_exporter": "python",
   "pygments_lexer": "ipython3",
   "version": "3.8.10"
  },
  "orig_nbformat": 4,
  "vscode": {
   "interpreter": {
    "hash": "767d51c1340bd893661ea55ea3124f6de3c7a262a8b4abca0554b478b1e2ff90"
   }
  }
 },
 "nbformat": 4,
 "nbformat_minor": 2
}
