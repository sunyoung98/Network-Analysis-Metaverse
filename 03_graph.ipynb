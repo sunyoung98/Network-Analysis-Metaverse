{
 "cells": [
  {
   "cell_type": "markdown",
   "metadata": {},
   "source": [
    "ENVIRON"
   ]
  },
  {
   "cell_type": "code",
   "execution_count": 1,
   "metadata": {},
   "outputs": [],
   "source": [
    "import networkx as nx\n",
    "import pandas as pd\n",
    "import os\n",
    "import numpy as np\n",
    "import seaborn as sns\n",
    "from tqdm import tqdm, trange\n",
    "from itertools import combinations"
   ]
  },
  {
   "cell_type": "code",
   "execution_count": 2,
   "metadata": {},
   "outputs": [],
   "source": [
    "from nltk.corpus import stopwords\n",
    "from nltk.tokenize import word_tokenize\n",
    "from nltk.stem import WordNetLemmatizer\n",
    "from nltk.stem import PorterStemmer\n",
    "from nltk.tag import pos_tag"
   ]
  },
  {
   "cell_type": "code",
   "execution_count": 3,
   "metadata": {},
   "outputs": [],
   "source": [
    "tqdm.pandas()"
   ]
  },
  {
   "cell_type": "code",
   "execution_count": 4,
   "metadata": {},
   "outputs": [],
   "source": [
    "lemmatizer = WordNetLemmatizer()\n",
    "stopword_list = stopwords.words('english')"
   ]
  },
  {
   "cell_type": "code",
   "execution_count": 5,
   "metadata": {},
   "outputs": [],
   "source": [
    "def flatten(container):\n",
    "    for i in container:\n",
    "        if isinstance(i, (list,tuple)):\n",
    "            for j in flatten(i):\n",
    "                yield j\n",
    "        else:\n",
    "            yield i"
   ]
  },
  {
   "cell_type": "code",
   "execution_count": 6,
   "metadata": {},
   "outputs": [],
   "source": [
    "def morphs(text, noun = True, verb = False, adjective = False, adverb = False):\n",
    "    poses = pos_tag(text, tagset = 'universal')\n",
    "    filters = []\n",
    "\n",
    "    if noun:\n",
    "        filters.append('NOUN')\n",
    "    if verb:\n",
    "        filters.append('VERB')\n",
    "    if adjective:\n",
    "        filters.append('ADJ')\n",
    "    if adverb:\n",
    "        filters.append('ADV')\n",
    "\n",
    "    return [pos[0] for pos in poses if pos[1] in filters]"
   ]
  },
  {
   "cell_type": "code",
   "execution_count": 7,
   "metadata": {},
   "outputs": [
    {
     "name": "stdout",
     "output_type": "stream",
     "text": [
      "[0/8] - tfidf\n",
      "[1/8] - keybert-all-MiniLM-L12-v2\n"
     ]
    },
    {
     "name": "stderr",
     "output_type": "stream",
     "text": [
      "100%|██████████| 446700/446700 [00:19<00:00, 22877.32it/s]\n",
      "100%|██████████| 446700/446700 [00:04<00:00, 94529.80it/s] \n",
      "100%|██████████| 446700/446700 [00:01<00:00, 284136.30it/s]\n",
      "100%|██████████| 446700/446700 [00:17<00:00, 26239.80it/s]\n",
      "100%|██████████| 446700/446700 [00:02<00:00, 209409.78it/s]\n",
      "100%|██████████| 446700/446700 [00:01<00:00, 345648.04it/s]\n",
      "100%|██████████| 446700/446700 [04:03<00:00, 1831.80it/s]\n",
      "100%|██████████| 4810/4810 [00:00<00:00, 184488.93it/s]\n",
      "100%|██████████| 446700/446700 [00:34<00:00, 12971.67it/s]\n",
      "100%|██████████| 4810/4810 [00:00<00:00, 158208.60it/s]\n",
      "100%|██████████| 6806260/6806260 [00:16<00:00, 417388.07it/s]\n",
      "100%|██████████| 115407/115407 [00:02<00:00, 40042.48it/s]\n",
      "100%|██████████| 115407/115407 [00:02<00:00, 57413.50it/s]\n",
      "100%|██████████| 115407/115407 [00:00<00:00, 489599.20it/s]\n",
      "100%|██████████| 115407/115407 [00:02<00:00, 53854.59it/s]\n",
      "100%|██████████| 115407/115407 [00:00<00:00, 528396.68it/s]\n",
      "100%|██████████| 115407/115407 [00:01<00:00, 75946.78it/s]\n",
      "100%|██████████| 115407/115407 [00:40<00:00, 2880.77it/s]\n",
      "100%|██████████| 115407/115407 [00:01<00:00, 103854.84it/s]\n",
      "100%|██████████| 2082/2082 [00:00<00:00, 180532.57it/s]\n",
      "100%|██████████| 115407/115407 [00:06<00:00, 16928.91it/s] \n",
      "100%|██████████| 2082/2082 [00:00<00:00, 194155.70it/s]\n",
      "100%|██████████| 643637/643637 [00:01<00:00, 391112.92it/s]\n"
     ]
    },
    {
     "name": "stdout",
     "output_type": "stream",
     "text": [
      "[2/8] - keybert-all-distilroberta-v1\n"
     ]
    },
    {
     "name": "stderr",
     "output_type": "stream",
     "text": [
      "100%|██████████| 446700/446700 [00:19<00:00, 22706.64it/s]\n",
      "100%|██████████| 446700/446700 [00:04<00:00, 96836.20it/s] \n",
      "100%|██████████| 446700/446700 [00:01<00:00, 253221.10it/s]\n",
      "100%|██████████| 446700/446700 [00:15<00:00, 28695.04it/s]\n",
      "100%|██████████| 446700/446700 [00:02<00:00, 181292.99it/s]\n",
      "100%|██████████| 446700/446700 [00:01<00:00, 340063.39it/s]\n",
      "100%|██████████| 446700/446700 [04:04<00:00, 1830.12it/s]\n",
      "100%|██████████| 4729/4729 [00:00<00:00, 183954.22it/s]\n",
      "100%|██████████| 446700/446700 [00:35<00:00, 12737.50it/s]\n",
      "100%|██████████| 4729/4729 [00:00<00:00, 172150.74it/s]\n",
      "100%|██████████| 6725091/6725091 [00:16<00:00, 416749.85it/s]\n",
      "100%|██████████| 115407/115407 [00:02<00:00, 39786.70it/s]\n",
      "100%|██████████| 115407/115407 [00:00<00:00, 170358.02it/s]\n",
      "100%|██████████| 115407/115407 [00:01<00:00, 67912.35it/s]\n",
      "100%|██████████| 115407/115407 [00:02<00:00, 52290.72it/s]\n",
      "100%|██████████| 115407/115407 [00:00<00:00, 464851.80it/s]\n",
      "100%|██████████| 115407/115407 [00:01<00:00, 75208.21it/s]\n",
      "100%|██████████| 115407/115407 [00:39<00:00, 2901.02it/s]\n",
      "100%|██████████| 115407/115407 [00:01<00:00, 101931.72it/s]\n",
      "100%|██████████| 2053/2053 [00:00<00:00, 181991.04it/s]\n",
      "100%|██████████| 115407/115407 [00:06<00:00, 17188.90it/s]\n",
      "100%|██████████| 2053/2053 [00:00<00:00, 192117.67it/s]\n",
      "100%|██████████| 641165/641165 [00:01<00:00, 391322.72it/s]\n"
     ]
    },
    {
     "name": "stdout",
     "output_type": "stream",
     "text": [
      "[3/8] - keybert-all-mpnet-base-v2\n"
     ]
    },
    {
     "name": "stderr",
     "output_type": "stream",
     "text": [
      "100%|██████████| 446700/446700 [00:19<00:00, 22845.81it/s]\n",
      "100%|██████████| 446700/446700 [00:04<00:00, 98362.79it/s] \n",
      "100%|██████████| 446700/446700 [00:01<00:00, 250827.80it/s]\n",
      "100%|██████████| 446700/446700 [00:15<00:00, 28652.74it/s]\n",
      "100%|██████████| 446700/446700 [00:01<00:00, 259753.15it/s]\n",
      "100%|██████████| 446700/446700 [00:02<00:00, 209106.56it/s]\n",
      "100%|██████████| 446700/446700 [04:00<00:00, 1854.40it/s]\n",
      "100%|██████████| 4682/4682 [00:00<00:00, 187640.76it/s]\n",
      "100%|██████████| 446700/446700 [00:34<00:00, 13119.81it/s]\n",
      "100%|██████████| 4682/4682 [00:00<00:00, 176504.65it/s]\n",
      "100%|██████████| 6750182/6750182 [00:16<00:00, 419983.01it/s]\n",
      "100%|██████████| 115407/115407 [00:02<00:00, 39982.43it/s]\n",
      "100%|██████████| 115407/115407 [00:02<00:00, 52713.16it/s]\n",
      "100%|██████████| 115407/115407 [00:00<00:00, 471770.90it/s]\n",
      "100%|██████████| 115407/115407 [00:02<00:00, 53077.47it/s]\n",
      "100%|██████████| 115407/115407 [00:01<00:00, 75798.66it/s]\n",
      "100%|██████████| 115407/115407 [00:00<00:00, 404368.41it/s]\n",
      "100%|██████████| 115407/115407 [00:39<00:00, 2890.99it/s]\n",
      "100%|██████████| 115407/115407 [00:01<00:00, 101931.36it/s]\n",
      "100%|██████████| 2054/2054 [00:00<00:00, 159211.63it/s]\n",
      "100%|██████████| 115407/115407 [00:06<00:00, 17741.89it/s] \n",
      "100%|██████████| 2054/2054 [00:00<00:00, 102833.72it/s]\n",
      "100%|██████████| 641934/641934 [00:01<00:00, 458619.46it/s]\n"
     ]
    },
    {
     "name": "stdout",
     "output_type": "stream",
     "text": [
      "[4/8] - keybert-distilbert-base-nli-mean-tokens\n"
     ]
    },
    {
     "name": "stderr",
     "output_type": "stream",
     "text": [
      "100%|██████████| 446700/446700 [00:18<00:00, 23921.67it/s]\n",
      "100%|██████████| 446700/446700 [00:04<00:00, 97526.31it/s] \n",
      "100%|██████████| 446700/446700 [00:01<00:00, 250635.33it/s]\n",
      "100%|██████████| 446700/446700 [00:16<00:00, 26980.39it/s]\n",
      "100%|██████████| 446700/446700 [00:00<00:00, 462477.34it/s]\n",
      "100%|██████████| 446700/446700 [00:01<00:00, 225249.34it/s]\n",
      "100%|██████████| 446700/446700 [04:03<00:00, 1838.08it/s]\n",
      "100%|██████████| 4969/4969 [00:00<00:00, 180179.10it/s]\n",
      "100%|██████████| 446700/446700 [00:34<00:00, 13106.93it/s]\n",
      "100%|██████████| 4969/4969 [00:00<00:00, 186386.00it/s]\n",
      "100%|██████████| 6604921/6604921 [00:15<00:00, 418286.40it/s]\n",
      "100%|██████████| 115407/115407 [00:02<00:00, 39773.24it/s]\n",
      "100%|██████████| 115407/115407 [00:00<00:00, 173083.68it/s]\n",
      "100%|██████████| 115407/115407 [00:01<00:00, 67940.97it/s]\n",
      "100%|██████████| 115407/115407 [00:02<00:00, 54701.52it/s]\n",
      "100%|██████████| 115407/115407 [00:00<00:00, 511742.97it/s]\n",
      "100%|██████████| 115407/115407 [00:01<00:00, 72234.20it/s]\n",
      "100%|██████████| 115407/115407 [00:39<00:00, 2920.31it/s]\n",
      "100%|██████████| 115407/115407 [00:01<00:00, 101682.46it/s]\n",
      "100%|██████████| 2114/2114 [00:00<00:00, 193483.29it/s]\n",
      "100%|██████████| 115407/115407 [00:06<00:00, 17597.37it/s]\n",
      "100%|██████████| 2114/2114 [00:00<00:00, 191705.41it/s]\n",
      "100%|██████████| 608303/608303 [00:01<00:00, 383838.93it/s]\n"
     ]
    },
    {
     "name": "stdout",
     "output_type": "stream",
     "text": [
      "[5/8] - keybert-multi-qa-distilbert-cos-v1\n"
     ]
    },
    {
     "name": "stderr",
     "output_type": "stream",
     "text": [
      "100%|██████████| 446700/446700 [00:19<00:00, 22944.20it/s]\n",
      "100%|██████████| 446700/446700 [00:04<00:00, 97187.59it/s] \n",
      "100%|██████████| 446700/446700 [00:01<00:00, 249439.62it/s]\n",
      "100%|██████████| 446700/446700 [00:15<00:00, 28657.38it/s]\n",
      "100%|██████████| 446700/446700 [00:01<00:00, 254467.02it/s]\n",
      "100%|██████████| 446700/446700 [00:02<00:00, 216288.02it/s]\n",
      "100%|██████████| 446700/446700 [04:00<00:00, 1855.29it/s]\n",
      "100%|██████████| 4713/4713 [00:00<00:00, 190843.44it/s]\n",
      "100%|██████████| 446700/446700 [00:31<00:00, 14023.75it/s]\n",
      "100%|██████████| 4713/4713 [00:00<00:00, 189380.78it/s]\n",
      "100%|██████████| 6315579/6315579 [00:14<00:00, 423198.66it/s]\n",
      "100%|██████████| 115407/115407 [00:04<00:00, 27285.03it/s]\n",
      "100%|██████████| 115407/115407 [00:00<00:00, 173848.22it/s]\n",
      "100%|██████████| 115407/115407 [00:00<00:00, 456116.29it/s]\n",
      "100%|██████████| 115407/115407 [00:03<00:00, 33966.85it/s]\n",
      "100%|██████████| 115407/115407 [00:00<00:00, 509457.14it/s]\n",
      "100%|██████████| 115407/115407 [00:00<00:00, 431361.65it/s]\n",
      "100%|██████████| 115407/115407 [00:39<00:00, 2946.02it/s]\n",
      "100%|██████████| 115407/115407 [00:02<00:00, 44772.05it/s]\n",
      "100%|██████████| 2050/2050 [00:00<00:00, 194250.93it/s]\n",
      "100%|██████████| 115407/115407 [00:03<00:00, 36290.28it/s] \n",
      "100%|██████████| 2050/2050 [00:00<00:00, 181089.77it/s]\n",
      "100%|██████████| 612778/612778 [00:01<00:00, 398098.86it/s]\n"
     ]
    },
    {
     "name": "stdout",
     "output_type": "stream",
     "text": [
      "[6/8] - keybert-multi-qa-mpnet-base-dot-v1\n"
     ]
    },
    {
     "name": "stderr",
     "output_type": "stream",
     "text": [
      "100%|██████████| 446700/446700 [00:22<00:00, 20184.92it/s]\n",
      "100%|██████████| 446700/446700 [00:04<00:00, 97754.88it/s] \n",
      "100%|██████████| 446700/446700 [00:01<00:00, 250396.14it/s]\n",
      "100%|██████████| 446700/446700 [00:14<00:00, 31324.14it/s]\n",
      "100%|██████████| 446700/446700 [00:02<00:00, 202065.66it/s]\n",
      "100%|██████████| 446700/446700 [00:01<00:00, 403232.67it/s]\n",
      "100%|██████████| 446700/446700 [03:58<00:00, 1871.31it/s]\n",
      "100%|██████████| 4470/4470 [00:00<00:00, 183302.43it/s]\n",
      "100%|██████████| 446700/446700 [00:32<00:00, 13733.17it/s]\n",
      "100%|██████████| 4470/4470 [00:00<00:00, 189337.11it/s]\n",
      "100%|██████████| 6347736/6347736 [00:14<00:00, 427758.58it/s]\n",
      "100%|██████████| 115407/115407 [00:02<00:00, 40457.24it/s]\n",
      "100%|██████████| 115407/115407 [00:00<00:00, 174857.43it/s]\n",
      "100%|██████████| 115407/115407 [00:00<00:00, 486309.00it/s]\n",
      "100%|██████████| 115407/115407 [00:03<00:00, 33203.14it/s]\n",
      "100%|██████████| 115407/115407 [00:00<00:00, 518834.17it/s]\n",
      "100%|██████████| 115407/115407 [00:00<00:00, 424442.49it/s]\n",
      "100%|██████████| 115407/115407 [00:40<00:00, 2863.03it/s]\n",
      "100%|██████████| 115407/115407 [00:01<00:00, 104080.34it/s]\n",
      "100%|██████████| 2001/2001 [00:00<00:00, 204992.48it/s]\n",
      "100%|██████████| 115407/115407 [00:06<00:00, 18015.98it/s]\n",
      "100%|██████████| 2001/2001 [00:00<00:00, 194647.30it/s]\n",
      "100%|██████████| 614529/614529 [00:01<00:00, 393691.13it/s]\n"
     ]
    },
    {
     "name": "stdout",
     "output_type": "stream",
     "text": [
      "[7/8] - original\n"
     ]
    }
   ],
   "source": [
    "for index, model_option in enumerate(os.listdir('./datasets/')):\n",
    "    # INDEXING\n",
    "    print(f'[{index}/{len(os.listdir(\"./datasets/\"))}] - {model_option}')\n",
    "    if model_option == 'original' or model_option == 'tfidf':\n",
    "        continue\n",
    "\n",
    "    # ------------------------------\n",
    "\n",
    "    # DATASET - ROBLOX\n",
    "    roblox1_df = pd.read_csv(f'./datasets/{model_option}/roblox1.csv', index_col = 0, low_memory = False)\n",
    "    roblox2_df = pd.read_csv(f'./datasets/{model_option}/roblox2.csv', index_col = 0, low_memory = False)\n",
    "    roblox3_df = pd.read_csv(f'./datasets/{model_option}/roblox3.csv', index_col = 0, low_memory = False)\n",
    "    roblox4_df = pd.read_csv(f'./datasets/{model_option}/roblox4.csv', index_col = 0, low_memory = False)\n",
    "    roblox5_df = pd.read_csv(f'./datasets/{model_option}/roblox5.csv', index_col = 0, low_memory = False)\n",
    "\n",
    "    df = pd.concat([roblox1_df, roblox2_df, roblox3_df, roblox4_df, roblox5_df]).dropna(subset = ['keybert_keywords']).reset_index(drop = True)\n",
    "\n",
    "    # PREPROCESS\n",
    "    df['keybert_keywords'] = df['keybert_keywords'].progress_apply(eval)                                                    # str2list\n",
    "    df['keywords'] = df['keybert_keywords'].progress_apply(lambda x : list(flatten(x))[0::2] if len(x) > 0 else '')         # select only keywords\n",
    "    df['keywords'] = df['keywords'].progress_apply(lambda x : [y for y in x if y.isalpha()])                                # exclude if numeric\n",
    "    df['keywords'] = df['keywords'].progress_apply(lambda x : [lemmatizer.lemmatize(y) for y in x])                         # lemmatize\n",
    "    df['keywords'] = df['keywords'].progress_apply(lambda x : list(set(x)))                                                 # drop duplicate\n",
    "    df['keywords'] = df['keywords'].progress_apply(lambda x : [y for y in x if len(y) >= 3 and len(y) <= 15])               # 3 <= len(keyword) <= 15\n",
    "    df['keywords'] = df['keywords'].progress_apply(morphs, noun = True, verb = True, adjective = False, adverb = False)     # select noun\n",
    "\n",
    "    # GRAPH FORMULATION - ROBLOX\n",
    "    G = nx.MultiGraph()\n",
    "    counts = df['keywords'].explode().reset_index(drop = True).reset_index().groupby('keywords').count()['index']\n",
    "    counts = counts[counts > 10]\n",
    "\n",
    "    # ADD NODES\n",
    "    for item in tqdm(counts.index):\n",
    "        G.add_node(item, weight = counts[item])\n",
    "\n",
    "    # ADD EDGES\n",
    "    for keywords in tqdm(df['keywords']):\n",
    "        keyword_selected = [keyword for keyword in keywords if keyword in counts.index]\n",
    "\n",
    "        pairs = list(combinations(keyword_selected, 2))\n",
    "        pairs = [(pair[0], pair[1]) if pair[0] < pair[1] else (pair[1], pair[0]) for pair in pairs]\n",
    "        \n",
    "        G.add_edges_from(pairs)\n",
    "\n",
    "    # MULTI to SINGLE - ROBLOX\n",
    "    H = nx.Graph()\n",
    "\n",
    "    # MULTI to SINGLE - ADD NODES\n",
    "    for item in tqdm(counts.index):\n",
    "        H.add_node(item, weight = counts[item])\n",
    "\n",
    "    # MULTI to SINGLE - ADD EDGES\n",
    "    for u, v, data in tqdm(G.edges(data = True)):\n",
    "        w = data['weight'] if 'weight' in data else 1.0\n",
    "        if H.has_edge(u, v):\n",
    "            H[u][v]['weight'] += w\n",
    "        else:\n",
    "            H.add_edge(u, v, weight=w)\n",
    "\n",
    "    # WRITE GRAPH\n",
    "    nx.write_graphml_lxml(H, f'./graph/roblox-{model_option}.graphml')\n",
    "\n",
    "    # ------------------------------\n",
    "\n",
    "    # DATASET - ZEPETO\n",
    "    df = pd.read_csv(f'./datasets/{model_option}/zepeto.csv', index_col = 0, low_memory = False)\n",
    "\n",
    "    # PREPROCESS\n",
    "    df['keybert_keywords'] = df['keybert_keywords'].progress_apply(eval)                                                    # str2list\n",
    "    df['keywords'] = df['keybert_keywords'].progress_apply(lambda x : list(flatten(x))[0::2] if len(x) > 0 else '')         # select only keywords\n",
    "    df['keywords'] = df['keywords'].progress_apply(lambda x : [y for y in x if y.isalpha()])                                # exclude if numeric\n",
    "    df['keywords'] = df['keywords'].progress_apply(lambda x : [lemmatizer.lemmatize(y) for y in x])                         # lemmatize\n",
    "    df['keywords'] = df['keywords'].progress_apply(lambda x : list(set(x)))                                                 # drop duplicate\n",
    "    df['keywords'] = df['keywords'].progress_apply(lambda x : [y for y in x if len(y) >= 3 and len(y) <= 15])               # 3 <= len(keyword) <= 15\n",
    "    df['keywords'] = df['keywords'].progress_apply(morphs, noun = True, verb = True, adjective = False, adverb = False)     # select noun\n",
    "    df['keywords'] = df['keywords'].progress_apply(lambda x : [y for y in x if y not in stopword_list])\n",
    "\n",
    "    # GRAPH FORMULATION - ZEPETO\n",
    "    G = nx.MultiGraph()\n",
    "    counts = df['keywords'].explode().reset_index(drop = True).reset_index().groupby('keywords').count()['index']\n",
    "    counts = counts[counts > 10]\n",
    "\n",
    "    # ADD NODES\n",
    "    for item in tqdm(counts.index):\n",
    "        G.add_node(item, weight = counts[item])\n",
    "\n",
    "    # ADD EDGES\n",
    "    for keywords in tqdm(df['keywords']):\n",
    "        keyword_selected = [keyword for keyword in keywords if keyword in counts.index]\n",
    "\n",
    "        pairs = list(combinations(keyword_selected, 2))\n",
    "        pairs = [(pair[0], pair[1]) if pair[0] < pair[1] else (pair[1], pair[0]) for pair in pairs]\n",
    "        \n",
    "        G.add_edges_from(pairs)\n",
    "\n",
    "    # MULTI to SINGLE - ZEPETO\n",
    "    H = nx.Graph()\n",
    "\n",
    "    # MULTI to SINGLE - ADD NODES\n",
    "    for item in tqdm(counts.index):\n",
    "        H.add_node(item, weight = counts[item])\n",
    "\n",
    "    # MULTI to SINGLE - ADD EDGES\n",
    "    for u, v, data in tqdm(G.edges(data = True)):\n",
    "        w = data['weight'] if 'weight' in data else 1.0\n",
    "        if H.has_edge(u, v):\n",
    "            H[u][v]['weight'] += w\n",
    "        else:\n",
    "            H.add_edge(u, v, weight=w)\n",
    "\n",
    "    # WRITE GRAPH\n",
    "    nx.write_graphml_lxml(H, f'./graph/zepeto-{model_option}.graphml')"
   ]
  }
 ],
 "metadata": {
  "kernelspec": {
   "display_name": "Python 3",
   "language": "python",
   "name": "python3"
  },
  "language_info": {
   "codemirror_mode": {
    "name": "ipython",
    "version": 3
   },
   "file_extension": ".py",
   "mimetype": "text/x-python",
   "name": "python",
   "nbconvert_exporter": "python",
   "pygments_lexer": "ipython3",
   "version": "3.8.10 (default, Nov 14 2022, 12:59:47) \n[GCC 9.4.0]"
  },
  "orig_nbformat": 4,
  "vscode": {
   "interpreter": {
    "hash": "767d51c1340bd893661ea55ea3124f6de3c7a262a8b4abca0554b478b1e2ff90"
   }
  }
 },
 "nbformat": 4,
 "nbformat_minor": 2
}
